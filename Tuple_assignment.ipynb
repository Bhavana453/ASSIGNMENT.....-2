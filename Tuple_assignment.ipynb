{
  "nbformat": 4,
  "nbformat_minor": 0,
  "metadata": {
    "colab": {
      "name": "Tuple assignment",
      "provenance": [],
      "authorship_tag": "ABX9TyOdYMpcmWDilOdFpl+sx8D8",
      "include_colab_link": true
    },
    "kernelspec": {
      "name": "python3",
      "display_name": "Python 3"
    }
  },
  "cells": [
    {
      "cell_type": "markdown",
      "metadata": {
        "id": "view-in-github",
        "colab_type": "text"
      },
      "source": [
        "<a href=\"https://colab.research.google.com/github/Bhavana453/ASSIGNMENT.....-2/blob/master/Tuple_assignment.ipynb\" target=\"_parent\"><img src=\"https://colab.research.google.com/assets/colab-badge.svg\" alt=\"Open In Colab\"/></a>"
      ]
    },
    {
      "cell_type": "code",
      "metadata": {
        "id": "iCQKmoZwWqU6",
        "colab_type": "code",
        "colab": {
          "base_uri": "https://localhost:8080/",
          "height": 54
        },
        "outputId": "0361bc0e-4ab0-409a-ccb8-d339dbabbf08"
      },
      "source": [
        " \n",
        "# create dictionary from string\n",
        "str1 = 'w3resource' \n",
        "my_dict = {}\n",
        "for letter in str1:\n",
        "    my_dict[letter] = my_dict.get(letter, 0) + 1\n",
        "print(my_dict)"
      ],
      "execution_count": 1,
      "outputs": [
        {
          "output_type": "stream",
          "text": [
            "{'w': 1, '3': 1, 'r': 2, 'e': 2, 's': 1, 'o': 1, 'u': 1, 'c': 1}\n"
          ],
          "name": "stdout"
        }
      ]
    },
    {
      "cell_type": "code",
      "metadata": {
        "id": "wKU_ulshXf6X",
        "colab_type": "code",
        "colab": {
          "base_uri": "https://localhost:8080/",
          "height": 85
        },
        "outputId": "26647375-60c7-4bda-e433-4cf2a0f7badd"
      },
      "source": [
        " \n",
        "#to create and display letters\n",
        "import itertools      \n",
        "d ={'1':['a','b'], '2':['c','d']}\n",
        "for combo in itertools.product(*[d[k] for k in sorted(d.keys())]):\n",
        "    print(''.join(combo))"
      ],
      "execution_count": 2,
      "outputs": [
        {
          "output_type": "stream",
          "text": [
            "ac\n",
            "ad\n",
            "bc\n",
            "bd\n"
          ],
          "name": "stdout"
        }
      ]
    },
    {
      "cell_type": "code",
      "metadata": {
        "id": "Cp4VfnuMXv8w",
        "colab_type": "code",
        "colab": {
          "base_uri": "https://localhost:8080/",
          "height": 34
        },
        "outputId": "0560faf8-3c48-481b-e2ff-d2c29aa7122d"
      },
      "source": [
        " \n",
        "# convert tuple to string\n",
        "tup = ('d', 'e', 'e', 'k', 's', 'h', 'i') \n",
        "str =  ''.join(tup)\n",
        "print(str)"
      ],
      "execution_count": 5,
      "outputs": [
        {
          "output_type": "stream",
          "text": [
            "deekshi\n"
          ],
          "name": "stdout"
        }
      ]
    },
    {
      "cell_type": "code",
      "metadata": {
        "id": "MzatP3FFYR8D",
        "colab_type": "code",
        "colab": {
          "base_uri": "https://localhost:8080/",
          "height": 85
        },
        "outputId": "49bb4a14-2a39-477a-c456-8e4f8281c380"
      },
      "source": [
        " \n",
        "# to slice a tuple\n",
        "my_tuple = ('i', 'g', 'k', 'l')\n",
        "print(my_tuple[1:]) \n",
        "print(my_tuple[:2]) \n",
        "print(my_tuple[1:3]) \n",
        "print(my_tuple[::2])"
      ],
      "execution_count": 7,
      "outputs": [
        {
          "output_type": "stream",
          "text": [
            "('g', 'k', 'l')\n",
            "('i', 'g')\n",
            "('g', 'k')\n",
            "('i', 'k')\n"
          ],
          "name": "stdout"
        }
      ]
    },
    {
      "cell_type": "code",
      "metadata": {
        "id": "nrzP4dKRYlTk",
        "colab_type": "code",
        "colab": {
          "base_uri": "https://localhost:8080/",
          "height": 34
        },
        "outputId": "fb879011-b3e3-42a0-fc01-a4b2e5e9791e"
      },
      "source": [
        " \n",
        "#create a tuple\n",
        "tuplex = tuple(\"banglore gitam university\")\n",
        "print(len(tuplex))"
      ],
      "execution_count": 9,
      "outputs": [
        {
          "output_type": "stream",
          "text": [
            "25\n"
          ],
          "name": "stdout"
        }
      ]
    }
  ]
}